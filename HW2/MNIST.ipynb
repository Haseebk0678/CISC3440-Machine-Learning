{
  "cells": [
    {
      "cell_type": "markdown",
      "metadata": {
        "id": "view-in-github",
        "colab_type": "text"
      },
      "source": [
        "<a href=\"https://colab.research.google.com/github/Haseebk0678/CISC3440-Machine-Learning/blob/main/HW2/MNIST.ipynb\" target=\"_parent\"><img src=\"https://colab.research.google.com/assets/colab-badge.svg\" alt=\"Open In Colab\"/></a>"
      ]
    },
    {
      "cell_type": "markdown",
      "metadata": {
        "id": "ZaRKrMhtHxW6"
      },
      "source": [
        "This notebook demonstrates classification with the MNIST dataset - a dataset for handwritten number recognition. Our goal is to look at a picture of a handwritten digit between 0 and 9, and try to recognize what digit it is."
      ]
    },
    {
      "cell_type": "code",
      "execution_count": 2,
      "metadata": {
        "id": "iY4Ww4r2T1j7"
      },
      "outputs": [],
      "source": [
        "from sklearn.datasets import fetch_openml\n",
        "from sklearn.neighbors import KNeighborsClassifier\n",
        "from sklearn.linear_model import SGDClassifier\n",
        "from sklearn.linear_model import LogisticRegression\n",
        "import matplotlib as mlp\n",
        "import matplotlib.pyplot as plt\n",
        "from sklearn.model_selection import cross_val_score"
      ]
    },
    {
      "cell_type": "markdown",
      "metadata": {
        "id": "VbiysmOCHHMb"
      },
      "source": [
        "MNIST with binary classification"
      ]
    },
    {
      "cell_type": "code",
      "execution_count": 3,
      "metadata": {
        "id": "gtuxwiyv--YV"
      },
      "outputs": [],
      "source": [
        "# Fetch the MNIST data using sklearn\n",
        "mnist = fetch_openml('mnist_784', version=1)"
      ]
    },
    {
      "cell_type": "code",
      "execution_count": 4,
      "metadata": {
        "id": "iW3Z2_yAmC4l"
      },
      "outputs": [],
      "source": [
        "# For this binary classification task, we will try to classify the MNIST digits\n",
        "# as 5/not-5. We can use the structure of the sklearn MNIST data to get both our\n",
        "# data and labels:\n",
        "X = mnist.data\n",
        "y = mnist.target"
      ]
    },
    {
      "cell_type": "code",
      "execution_count": 5,
      "metadata": {
        "id": "qcSVCAdBH-5a",
        "colab": {
          "base_uri": "https://localhost:8080/",
          "height": 282
        },
        "outputId": "32ab770c-f988-421a-809b-63b44b501b9e"
      },
      "outputs": [
        {
          "output_type": "stream",
          "name": "stdout",
          "text": [
            "Label:  2\n"
          ]
        },
        {
          "output_type": "display_data",
          "data": {
            "text/plain": [
              "<Figure size 432x288 with 1 Axes>"
            ],
            "image/png": "[encoded data removed]"
          },
          "metadata": {
            "needs_background": "light"
          }
        }
      ],
      "source": [
        "# As an example, plot a row from the dataset. You can see different examples\n",
        "# by rerunning this cell with different values of I.\n",
        "I = 25\n",
        "\n",
        "print(\"Label: \", y[I])\n",
        "plt.imshow(X.iloc[I].values.reshape(28,28))\n",
        "plt.show()"
      ]
    },
    {
      "cell_type": "code",
      "execution_count": 6,
      "metadata": {
        "id": "TyESjlcMC8hS",
        "colab": {
          "base_uri": "https://localhost:8080/"
        },
        "outputId": "65285d26-daf3-4ba3-c5cd-68ab1c5a8cf3"
      },
      "outputs": [
        {
          "output_type": "execute_result",
          "data": {
            "text/plain": [
              "0        5\n",
              "1        0\n",
              "2        4\n",
              "3        1\n",
              "4        9\n",
              "        ..\n",
              "69995    2\n",
              "69996    3\n",
              "69997    4\n",
              "69998    5\n",
              "69999    6\n",
              "Name: class, Length: 70000, dtype: category\n",
              "Categories (10, object): ['0', '1', '2', '3', ..., '6', '7', '8', '9']"
            ]
          },
          "metadata": {},
          "execution_count": 6
        }
      ],
      "source": [
        "# Currently, targets are strings containing the number associated with each row\n",
        "# of target data. We need to change this to a binary 5/not-5 value.\n",
        "y"
      ]
    },
    {
      "cell_type": "code",
      "execution_count": 7,
      "metadata": {
        "id": "Vj66aP9PDDlS",
        "colab": {
          "base_uri": "https://localhost:8080/"
        },
        "outputId": "cae89afb-0654-4241-c98a-eaedafffe589"
      },
      "outputs": [
        {
          "output_type": "execute_result",
          "data": {
            "text/plain": [
              "0         True\n",
              "1        False\n",
              "2        False\n",
              "3        False\n",
              "4        False\n",
              "         ...  \n",
              "69995    False\n",
              "69996    False\n",
              "69997    False\n",
              "69998     True\n",
              "69999    False\n",
              "Name: class, Length: 70000, dtype: bool"
            ]
          },
          "metadata": {},
          "execution_count": 7
        }
      ],
      "source": [
        "# We can do this with a simple Boolean expression:\n",
        "y_5 = y == '5'\n",
        "y_5"
      ]
    },
    {
      "cell_type": "code",
      "execution_count": 8,
      "metadata": {
        "id": "Ou-qgFZqmq0u",
        "colab": {
          "base_uri": "https://localhost:8080/"
        },
        "outputId": "55e59d7f-b5ef-4b54-ad66-4d357a222774"
      },
      "outputs": [
        {
          "output_type": "execute_result",
          "data": {
            "text/plain": [
              "(60000, 10000)"
            ]
          },
          "metadata": {},
          "execution_count": 8
        }
      ],
      "source": [
        "# Retrieve the train/test split from the dataset.\n",
        "# The MNIST digits are already divided into a train/test split:\n",
        "# the first 60,000 rows are the training set, and the rest are the test set.\n",
        "X_train, y_train_5, X_test, y_test_5 = X[:60000], y_5[:60000], X[60000:], y_5[60000:]\n",
        "\n",
        "len(X_train), len(X_test)"
      ]
    },
    {
      "cell_type": "code",
      "execution_count": 9,
      "metadata": {
        "id": "sGvIPnN3nKjk"
      },
      "outputs": [],
      "source": [
        "# Let's do a 3-fold cross validation to evaluate two different models.\n",
        "\n",
        "model_sgd = SGDClassifier()\n",
        "sgd_scores = cross_val_score(model_sgd, X_train, y_train_5, cv=3, scoring=\"f1\")"
      ]
    },
    {
      "cell_type": "code",
      "execution_count": 10,
      "metadata": {
        "id": "KS6tyTZzEKcz",
        "colab": {
          "base_uri": "https://localhost:8080/"
        },
        "outputId": "51d7dbf5-4a62-4528-8d0c-5921183841b9"
      },
      "outputs": [
        {
          "output_type": "execute_result",
          "data": {
            "text/plain": [
              "array([0.81319275, 0.81385281, 0.71337868])"
            ]
          },
          "metadata": {},
          "execution_count": 10
        }
      ],
      "source": [
        "sgd_scores"
      ]
    },
    {
      "cell_type": "code",
      "execution_count": 11,
      "metadata": {
        "id": "s68xYt9Gnq_D"
      },
      "outputs": [],
      "source": [
        "model_knn = KNeighborsClassifier()\n",
        "knn_scores = cross_val_score(model_knn, X_train, y_train_5, cv=3, scoring=\"f1\")"
      ]
    },
    {
      "cell_type": "code",
      "execution_count": 12,
      "metadata": {
        "id": "Elv8Fk2YoDhF",
        "colab": {
          "base_uri": "https://localhost:8080/"
        },
        "outputId": "fe550bab-03b9-4376-fe10-b290358f221d"
      },
      "outputs": [
        {
          "output_type": "execute_result",
          "data": {
            "text/plain": [
              "array([0.9671675 , 0.9610245 , 0.96143097])"
            ]
          },
          "metadata": {},
          "execution_count": 12
        }
      ],
      "source": [
        "knn_scores"
      ]
    },
    {
      "cell_type": "markdown",
      "metadata": {
        "id": "kL7Kz6ZpHKo0"
      },
      "source": [
        "MNIST with multiclass classification"
      ]
    },
    {
      "cell_type": "code",
      "execution_count": 14,
      "metadata": {
        "id": "5Z2Jkw3UHNhB",
        "colab": {
          "base_uri": "https://localhost:8080/"
        },
        "outputId": "1741fa19-556f-47ca-98ea-33187eda8800"
      },
      "outputs": [
        {
          "output_type": "execute_result",
          "data": {
            "text/plain": [
              "0        5\n",
              "1        0\n",
              "2        4\n",
              "3        1\n",
              "4        9\n",
              "        ..\n",
              "59995    8\n",
              "59996    3\n",
              "59997    5\n",
              "59998    6\n",
              "59999    8\n",
              "Name: class, Length: 60000, dtype: category\n",
              "Categories (10, object): ['0', '1', '2', '3', ..., '6', '7', '8', '9']"
            ]
          },
          "metadata": {},
          "execution_count": 14
        }
      ],
      "source": [
        "# Try K-NN. This time, we'll evaluate on accuracy, since that is\n",
        "# what the homework wants.\n",
        "\n",
        "# We are doing multiclass classification. Get the original numeric data:\n",
        "y_train_multiclass, y_test_multiclass =y[:60000], y[60000:]\n",
        "y_train_multiclass"
      ]
    },
    {
      "cell_type": "code",
      "source": [
        "from sklearn import metrics\n",
        "model_knn = KNeighborsClassifier(n_neighbors = 4, weights = \"distance\")\n",
        "\n",
        "knn_scores = cross_val_score(model_knn, X_train, y_train_multiclass, cv=3, verbose=2, scoring=\"accuracy\")\n",
        "print(\"KNN\", knn_scores)\n",
        "model_knn.fit(X_train, y_train_multiclass)\n",
        "y_pred = model_knn.predict(X_test)\n",
        "metrics.f1_score(y_test_multiclass, y_pred, average='weighted')"
      ],
      "metadata": {
        "colab": {
          "base_uri": "https://localhost:8080/"
        },
        "id": "Gw0Hlw_DC2UK",
        "outputId": "f5336a16-07f6-4564-fde4-97df06243493"
      },
      "execution_count": 18,
      "outputs": [
        {
          "output_type": "stream",
          "name": "stderr",
          "text": [
            "[Parallel(n_jobs=1)]: Using backend SequentialBackend with 1 concurrent workers.\n"
          ]
        },
        {
          "output_type": "stream",
          "name": "stdout",
          "text": [
            "[CV] END .................................................... total time=  57.8s\n"
          ]
        },
        {
          "output_type": "stream",
          "name": "stderr",
          "text": [
            "[Parallel(n_jobs=1)]: Done   1 out of   1 | elapsed:   57.9s remaining:    0.0s\n"
          ]
        },
        {
          "output_type": "stream",
          "name": "stdout",
          "text": [
            "[CV] END .................................................... total time=  54.1s\n",
            "[CV] END .................................................... total time=  54.0s\n",
            "KNN [0.9709  0.9698  0.97035]\n"
          ]
        },
        {
          "output_type": "stream",
          "name": "stderr",
          "text": [
            "[Parallel(n_jobs=1)]: Done   3 out of   3 | elapsed:  2.8min finished\n"
          ]
        },
        {
          "output_type": "execute_result",
          "data": {
            "text/plain": [
              "0.9713597782738583"
            ]
          },
          "metadata": {},
          "execution_count": 18
        }
      ]
    },
    {
      "cell_type": "code",
      "source": [
        "\n",
        "# The best value ends up being n_neighbors = 4 i'll spare you the 28 minutes needed to run this\n",
        "\n",
        "knn = KNeighborsClassifier(weights = 'distance')\n",
        "from sklearn.model_selection import GridSearchCV\n",
        "k_range = list(range(1, 15))\n",
        "param_grid = dict(n_neighbors=k_range)\n",
        "  \n",
        "# defining parameter range\n",
        "grid = GridSearchCV(knn, param_grid, cv = 2, scoring='accuracy', return_train_score=False,verbose=2)\n",
        "grid_search=grid.fit(X_train, y_train_multiclass)\n",
        "print(grid_search.best_params_)"
      ],
      "metadata": {
        "id": "FJUgr5KvHvsA",
        "colab": {
          "base_uri": "https://localhost:8080/"
        },
        "outputId": "3a914cdf-2e2a-4eb1-b454-370ddf0cff61"
      },
      "execution_count": 17,
      "outputs": [
        {
          "output_type": "stream",
          "name": "stdout",
          "text": [
            "Fitting 2 folds for each of 14 candidates, totalling 28 fits\n",
            "[CV] END ......................................n_neighbors=1; total time=  49.4s\n",
            "[CV] END ......................................n_neighbors=1; total time=  49.5s\n",
            "[CV] END ......................................n_neighbors=2; total time=  51.0s\n",
            "[CV] END ......................................n_neighbors=2; total time=  51.2s\n",
            "[CV] END ......................................n_neighbors=3; total time=  52.5s\n",
            "[CV] END ......................................n_neighbors=3; total time=  53.0s\n",
            "[CV] END ......................................n_neighbors=4; total time=  57.5s\n",
            "[CV] END ......................................n_neighbors=4; total time=  56.5s\n",
            "[CV] END ......................................n_neighbors=5; total time=  57.4s\n",
            "[CV] END ......................................n_neighbors=5; total time=  59.6s\n",
            "[CV] END ......................................n_neighbors=6; total time=  58.0s\n",
            "[CV] END ......................................n_neighbors=6; total time=  57.0s\n",
            "[CV] END ......................................n_neighbors=7; total time=  57.9s\n",
            "[CV] END ......................................n_neighbors=7; total time=  58.2s\n",
            "[CV] END ......................................n_neighbors=8; total time=  57.8s\n",
            "[CV] END ......................................n_neighbors=8; total time=  57.0s\n",
            "[CV] END ......................................n_neighbors=9; total time=  58.1s\n",
            "[CV] END ......................................n_neighbors=9; total time=  57.0s\n",
            "[CV] END .....................................n_neighbors=10; total time=  58.1s\n",
            "[CV] END .....................................n_neighbors=10; total time=  57.2s\n",
            "[CV] END .....................................n_neighbors=11; total time=  57.9s\n",
            "[CV] END .....................................n_neighbors=11; total time=  56.9s\n",
            "[CV] END .....................................n_neighbors=12; total time= 1.0min\n",
            "[CV] END .....................................n_neighbors=12; total time=  57.0s\n",
            "[CV] END .....................................n_neighbors=13; total time=  58.3s\n",
            "[CV] END .....................................n_neighbors=13; total time=  57.1s\n",
            "[CV] END .....................................n_neighbors=14; total time=  58.2s\n",
            "[CV] END .....................................n_neighbors=14; total time=  57.2s\n",
            "{'n_neighbors': 4}\n"
          ]
        }
      ]
    }
  ],
  "metadata": {
    "colab": {
      "collapsed_sections": [],
      "provenance": [],
      "include_colab_link": true
    },
    "kernelspec": {
      "display_name": "Python 3",
      "name": "python3"
    },
    "language_info": {
      "name": "python"
    }
  },
  "nbformat": 4,
  "nbformat_minor": 0
}